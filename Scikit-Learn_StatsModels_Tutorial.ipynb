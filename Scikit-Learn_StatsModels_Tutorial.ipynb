{
 "cells": [
  {
   "cell_type": "markdown",
   "metadata": {},
   "source": [
    "# StatsModels & Scikit-Learn\n",
    "#### Kirsten Mead"
   ]
  },
  {
   "cell_type": "markdown",
   "metadata": {},
   "source": [
    "## StatsModels"
   ]
  },
  {
   "cell_type": "code",
   "execution_count": 152,
   "metadata": {},
   "outputs": [],
   "source": [
    "#load required packages\n",
    "import pandas as pd\n",
    "import numpy as np\n",
    "import statsmodels.api as sm\n",
    "import statsmodels.formula.api as smf\n",
    "from sklearn import datasets, linear_model, metrics, neighbors, model_selection\n",
    "import matplotlib.pyplot as plt"
   ]
  },
  {
   "cell_type": "code",
   "execution_count": 153,
   "metadata": {},
   "outputs": [
    {
     "data": {
      "text/html": [
       "<div>\n",
       "<style scoped>\n",
       "    .dataframe tbody tr th:only-of-type {\n",
       "        vertical-align: middle;\n",
       "    }\n",
       "\n",
       "    .dataframe tbody tr th {\n",
       "        vertical-align: top;\n",
       "    }\n",
       "\n",
       "    .dataframe thead th {\n",
       "        text-align: right;\n",
       "    }\n",
       "</style>\n",
       "<table border=\"1\" class=\"dataframe\">\n",
       "  <thead>\n",
       "    <tr style=\"text-align: right;\">\n",
       "      <th></th>\n",
       "      <th>sepal length (cm)</th>\n",
       "      <th>sepal width (cm)</th>\n",
       "      <th>petal length (cm)</th>\n",
       "      <th>petal width (cm)</th>\n",
       "    </tr>\n",
       "  </thead>\n",
       "  <tbody>\n",
       "    <tr>\n",
       "      <th>0</th>\n",
       "      <td>5.1</td>\n",
       "      <td>3.5</td>\n",
       "      <td>1.4</td>\n",
       "      <td>0.2</td>\n",
       "    </tr>\n",
       "    <tr>\n",
       "      <th>1</th>\n",
       "      <td>4.9</td>\n",
       "      <td>3.0</td>\n",
       "      <td>1.4</td>\n",
       "      <td>0.2</td>\n",
       "    </tr>\n",
       "    <tr>\n",
       "      <th>2</th>\n",
       "      <td>4.7</td>\n",
       "      <td>3.2</td>\n",
       "      <td>1.3</td>\n",
       "      <td>0.2</td>\n",
       "    </tr>\n",
       "    <tr>\n",
       "      <th>3</th>\n",
       "      <td>4.6</td>\n",
       "      <td>3.1</td>\n",
       "      <td>1.5</td>\n",
       "      <td>0.2</td>\n",
       "    </tr>\n",
       "    <tr>\n",
       "      <th>4</th>\n",
       "      <td>5.0</td>\n",
       "      <td>3.6</td>\n",
       "      <td>1.4</td>\n",
       "      <td>0.2</td>\n",
       "    </tr>\n",
       "  </tbody>\n",
       "</table>\n",
       "</div>"
      ],
      "text/plain": [
       "   sepal length (cm)  sepal width (cm)  petal length (cm)  petal width (cm)\n",
       "0                5.1               3.5                1.4               0.2\n",
       "1                4.9               3.0                1.4               0.2\n",
       "2                4.7               3.2                1.3               0.2\n",
       "3                4.6               3.1                1.5               0.2\n",
       "4                5.0               3.6                1.4               0.2"
      ]
     },
     "execution_count": 153,
     "metadata": {},
     "output_type": "execute_result"
    }
   ],
   "source": [
    "#load the iris dataset\n",
    "iris = datasets.load_iris()\n",
    "iris_df = pd.DataFrame(iris.data, columns=iris.feature_names)\n",
    "iris_df.head()"
   ]
  },
  {
   "cell_type": "code",
   "execution_count": 154,
   "metadata": {},
   "outputs": [],
   "source": [
    "#rename iris columns to eliminate spaces\n",
    "iris_df.columns = ['s_length', 's_width', 'p_length', 'p_width']"
   ]
  },
  {
   "cell_type": "code",
   "execution_count": 155,
   "metadata": {},
   "outputs": [
    {
     "data": {
      "text/plain": [
       "Text(0, 0.5, 'Petal Length (cm)')"
      ]
     },
     "execution_count": 155,
     "metadata": {},
     "output_type": "execute_result"
    },
    {
     "data": {
      "image/png": "[encoded data removed]",
      "text/plain": [
       "<Figure size 720x360 with 2 Axes>"
      ]
     },
     "metadata": {
      "needs_background": "light"
     },
     "output_type": "display_data"
    }
   ],
   "source": [
    "#plot the relationship between sepal length and petal length\n",
    "fig, ax = plt.subplots(1, 2, figsize=(10, 5), sharey=True)\n",
    "ax[0].scatter(iris_df['s_length'], iris_df['p_length'])\n",
    "ax[1].scatter(iris_df['p_width'], iris_df['p_length'])\n",
    "ax[0].set_xlabel('Sepal Length (cm)')\n",
    "ax[1].set_xlabel('Petal Width (cm)')\n",
    "ax[0].set_ylabel('Petal Length (cm)')"
   ]
  },
  {
   "cell_type": "markdown",
   "metadata": {},
   "source": [
    "### OLS Linear Regression"
   ]
  },
  {
   "cell_type": "code",
   "execution_count": 156,
   "metadata": {},
   "outputs": [],
   "source": [
    "#fit ols regression model of petal length on sepal length and petal width\n",
    "ols_length = smf.ols('p_length ~ s_length + p_width', data=iris_df).fit()"
   ]
  },
  {
   "cell_type": "code",
   "execution_count": 157,
   "metadata": {},
   "outputs": [
    {
     "name": "stdout",
     "output_type": "stream",
     "text": [
      "                            OLS Regression Results                            \n",
      "==============================================================================\n",
      "Dep. Variable:               p_length   R-squared:                       0.949\n",
      "Model:                            OLS   Adj. R-squared:                  0.948\n",
      "Method:                 Least Squares   F-statistic:                     1354.\n",
      "Date:                Mon, 11 Nov 2019   Prob (F-statistic):           2.01e-95\n",
      "Time:                        23:15:57   Log-Likelihood:                -75.090\n",
      "No. Observations:                 150   AIC:                             156.2\n",
      "Df Residuals:                     147   BIC:                             165.2\n",
      "Df Model:                           2                                         \n",
      "Covariance Type:            nonrobust                                         \n",
      "==============================================================================\n",
      "                 coef    std err          t      P>|t|      [0.025      0.975]\n",
      "------------------------------------------------------------------------------\n",
      "Intercept     -1.5071      0.337     -4.473      0.000      -2.173      -0.841\n",
      "s_length       0.5423      0.069      7.820      0.000       0.405       0.679\n",
      "p_width        1.7481      0.075     23.205      0.000       1.599       1.897\n",
      "==============================================================================\n",
      "Omnibus:                        1.243   Durbin-Watson:                   1.339\n",
      "Prob(Omnibus):                  0.537   Jarque-Bera (JB):                0.840\n",
      "Skew:                          -0.058   Prob(JB):                        0.657\n",
      "Kurtosis:                       3.348   Cond. No.                         64.7\n",
      "==============================================================================\n",
      "\n",
      "Warnings:\n",
      "[1] Standard Errors assume that the covariance matrix of the errors is correctly specified.\n"
     ]
    }
   ],
   "source": [
    "#view summary of ols regression\n",
    "print(ols_length.summary())"
   ]
  },
  {
   "cell_type": "markdown",
   "metadata": {},
   "source": [
    "### Alternative syntax - NumPy arrays"
   ]
  },
  {
   "cell_type": "code",
   "execution_count": 158,
   "metadata": {},
   "outputs": [],
   "source": [
    "#make numpy arrays from sepal and petal length\n",
    "X = np.array(iris_df[['s_length', 'p_width']])\n",
    "Y = np.array(iris_df['p_length'])\n",
    "#add constant to X in order to have an intercept for the ols model\n",
    "X = sm.add_constant(X)"
   ]
  },
  {
   "cell_type": "code",
   "execution_count": 159,
   "metadata": {},
   "outputs": [],
   "source": [
    "#fit ols model using numpy arrays\n",
    "ols_length_np = sm.OLS(Y, X).fit()"
   ]
  },
  {
   "cell_type": "code",
   "execution_count": 160,
   "metadata": {},
   "outputs": [
    {
     "name": "stdout",
     "output_type": "stream",
     "text": [
      "                            OLS Regression Results                            \n",
      "==============================================================================\n",
      "Dep. Variable:                      y   R-squared:                       0.949\n",
      "Model:                            OLS   Adj. R-squared:                  0.948\n",
      "Method:                 Least Squares   F-statistic:                     1354.\n",
      "Date:                Mon, 11 Nov 2019   Prob (F-statistic):           2.01e-95\n",
      "Time:                        23:15:57   Log-Likelihood:                -75.090\n",
      "No. Observations:                 150   AIC:                             156.2\n",
      "Df Residuals:                     147   BIC:                             165.2\n",
      "Df Model:                           2                                         \n",
      "Covariance Type:            nonrobust                                         \n",
      "==============================================================================\n",
      "                 coef    std err          t      P>|t|      [0.025      0.975]\n",
      "------------------------------------------------------------------------------\n",
      "const         -1.5071      0.337     -4.473      0.000      -2.173      -0.841\n",
      "x1             0.5423      0.069      7.820      0.000       0.405       0.679\n",
      "x2             1.7481      0.075     23.205      0.000       1.599       1.897\n",
      "==============================================================================\n",
      "Omnibus:                        1.243   Durbin-Watson:                   1.339\n",
      "Prob(Omnibus):                  0.537   Jarque-Bera (JB):                0.840\n",
      "Skew:                          -0.058   Prob(JB):                        0.657\n",
      "Kurtosis:                       3.348   Cond. No.                         64.7\n",
      "==============================================================================\n",
      "\n",
      "Warnings:\n",
      "[1] Standard Errors assume that the covariance matrix of the errors is correctly specified.\n"
     ]
    }
   ],
   "source": [
    "#view summary of ols regression\n",
    "print(ols_length_np.summary())"
   ]
  },
  {
   "cell_type": "code",
   "execution_count": 161,
   "metadata": {},
   "outputs": [
    {
     "data": {
      "text/plain": [
       "array([-1.50713838,  0.54225562,  1.74810286])"
      ]
     },
     "execution_count": 161,
     "metadata": {},
     "output_type": "execute_result"
    }
   ],
   "source": [
    "#just get the model parameters\n",
    "ols_length_np.params"
   ]
  },
  {
   "cell_type": "code",
   "execution_count": 162,
   "metadata": {},
   "outputs": [
    {
     "data": {
      "text/plain": [
       "array([1.60798587, 1.49953474, 1.39108362, 1.33685806, 1.5537603 ,\n",
       "       2.12028312, 1.51166834, 1.5537603 , 1.22840693, 1.32472446,\n",
       "       1.77066255, 1.44530918, 1.27049889, 0.99937108, 1.9875648 ,\n",
       "       2.28295981, 2.12028312, 1.78279615, 2.10814952, 1.78279615,\n",
       "       1.77066255, 1.95760644, 1.33685806, 2.13241672, 1.44530918,\n",
       "       1.5537603 , 1.90338088, 1.66221143, 1.66221143, 1.39108362,\n",
       "       1.44530918, 2.12028312, 1.48740114, 1.82488811, 1.49953474,\n",
       "       1.5537603 , 1.82488811, 1.32472446, 1.22840693, 1.60798587,\n",
       "       1.72857059, 1.45744278, 1.22840693, 2.25300145, 1.95760644,\n",
       "       1.62011947, 1.60798587, 1.33685806, 1.71643699, 1.5537603 ,\n",
       "       4.73599498, 4.58545189, 4.8565797 , 3.74780126, 4.63967745,\n",
       "       3.85625238, 4.70603661, 2.89801703, 4.34428244, 3.75993486,\n",
       "       2.95224259, 4.31432408, 3.49449821, 4.24796492, 3.80202682,\n",
       "       4.57331829, 4.15164739, 3.38604709, 4.47700076, 3.45240625,\n",
       "       4.83875493, 4.07315463, 4.53122633, 3.89834434, 4.23583132,\n",
       "       4.51909273, 4.62754385, 5.09774915, 4.36854964, 3.33182152,\n",
       "       3.39818069, 3.2233704 , 3.73566766, 4.54335993, 4.04319627,\n",
       "       4.54335993, 4.74812858, 4.18160575, 3.80202682, 3.74780126,\n",
       "       3.57299097, 4.24796492, 3.73566766, 2.95224259, 3.80202682,\n",
       "       3.6814421 , 3.85625238, 4.12738019, 3.18127844, 3.85625238,\n",
       "       6.27932918, 4.95933966, 6.01389254, 5.05565718, 5.86334945,\n",
       "       6.28502035, 4.12168903, 5.59791281, 5.27255943, 6.76735924,\n",
       "       5.51372888, 5.28469303, 5.85121585, 5.07992438, 5.83339109,\n",
       "       5.98393417, 5.16410831, 6.5140562 , 6.68886648, 4.36854964,\n",
       "       6.25506199, 5.02569882, 6.16443563, 5.05565718, 5.79699029,\n",
       "       5.54368724, 5.00143162, 4.94720606, 5.6343136 , 5.19406667,\n",
       "       5.82694865, 6.27288675, 5.80912389, 4.53122633, 4.24796492,\n",
       "       6.68886648, 6.1045189 , 5.10988275, 4.8929805 , 5.90544141,\n",
       "       6.32142115, 6.25506199, 4.95933966, 6.20083642, 6.49623143,\n",
       "       6.14661086, 5.23046747, 5.51372888, 5.87548305, 4.83875493])"
      ]
     },
     "execution_count": 162,
     "metadata": {},
     "output_type": "execute_result"
    }
   ],
   "source": [
    "#Get predicted petal lengths from sepal length and petal width\n",
    "ols_length_np.predict(X)"
   ]
  },
  {
   "cell_type": "markdown",
   "metadata": {},
   "source": [
    "### Logistic Regression"
   ]
  },
  {
   "cell_type": "code",
   "execution_count": 163,
   "metadata": {},
   "outputs": [],
   "source": [
    "#get the true classes from the iris dataset\n",
    "iris_outcome = iris.target"
   ]
  },
  {
   "cell_type": "code",
   "execution_count": 164,
   "metadata": {},
   "outputs": [
    {
     "data": {
      "text/plain": [
       "array(['setosa', 'versicolor', 'virginica'], dtype='<U10')"
      ]
     },
     "execution_count": 164,
     "metadata": {},
     "output_type": "execute_result"
    }
   ],
   "source": [
    "#get iris class names\n",
    "iris.target_names"
   ]
  },
  {
   "cell_type": "code",
   "execution_count": 165,
   "metadata": {},
   "outputs": [
    {
     "data": {
      "text/plain": [
       "array([0, 0, 0, 0, 0, 0, 0, 0, 0, 0, 0, 0, 0, 0, 0, 0, 0, 0, 0, 0, 0, 0,\n",
       "       0, 0, 0, 0, 0, 0, 0, 0, 0, 0, 0, 0, 0, 0, 0, 0, 0, 0, 0, 0, 0, 0,\n",
       "       0, 0, 0, 0, 0, 0, 1, 1, 1, 1, 1, 1, 1, 1, 1, 1, 1, 1, 1, 1, 1, 1,\n",
       "       1, 1, 1, 1, 1, 1, 1, 1, 1, 1, 1, 1, 1, 1, 1, 1, 1, 1, 1, 1, 1, 1,\n",
       "       1, 1, 1, 1, 1, 1, 1, 1, 1, 1, 1, 1, 2, 2, 2, 2, 2, 2, 2, 2, 2, 2,\n",
       "       2, 2, 2, 2, 2, 2, 2, 2, 2, 2, 2, 2, 2, 2, 2, 2, 2, 2, 2, 2, 2, 2,\n",
       "       2, 2, 2, 2, 2, 2, 2, 2, 2, 2, 2, 2, 2, 2, 2, 2, 2, 2])"
      ]
     },
     "execution_count": 165,
     "metadata": {},
     "output_type": "execute_result"
    }
   ],
   "source": [
    "#0 Setosa, 1 Versicolor, 2 Virginica\n",
    "iris_outcome"
   ]
  },
  {
   "cell_type": "code",
   "execution_count": 166,
   "metadata": {},
   "outputs": [],
   "source": [
    "#change outputs to 0 for Setosa/Versicolor, 1 for Virginica\n",
    "iris_bin_outcome = iris_outcome.copy()\n",
    "iris_bin_outcome[iris_outcome==1] = 0\n",
    "iris_bin_outcome[iris_outcome==2] = 1"
   ]
  },
  {
   "cell_type": "code",
   "execution_count": 167,
   "metadata": {},
   "outputs": [
    {
     "data": {
      "text/plain": [
       "array([0, 0, 0, 0, 0, 0, 0, 0, 0, 0, 0, 0, 0, 0, 0, 0, 0, 0, 0, 0, 0, 0,\n",
       "       0, 0, 0, 0, 0, 0, 0, 0, 0, 0, 0, 0, 0, 0, 0, 0, 0, 0, 0, 0, 0, 0,\n",
       "       0, 0, 0, 0, 0, 0, 0, 0, 0, 0, 0, 0, 0, 0, 0, 0, 0, 0, 0, 0, 0, 0,\n",
       "       0, 0, 0, 0, 0, 0, 0, 0, 0, 0, 0, 0, 0, 0, 0, 0, 0, 0, 0, 0, 0, 0,\n",
       "       0, 0, 0, 0, 0, 0, 0, 0, 0, 0, 0, 0, 1, 1, 1, 1, 1, 1, 1, 1, 1, 1,\n",
       "       1, 1, 1, 1, 1, 1, 1, 1, 1, 1, 1, 1, 1, 1, 1, 1, 1, 1, 1, 1, 1, 1,\n",
       "       1, 1, 1, 1, 1, 1, 1, 1, 1, 1, 1, 1, 1, 1, 1, 1, 1, 1])"
      ]
     },
     "execution_count": 167,
     "metadata": {},
     "output_type": "execute_result"
    }
   ],
   "source": [
    "#now we have a binomial classification problem\n",
    "iris_bin_outcome"
   ]
  },
  {
   "cell_type": "code",
   "execution_count": 168,
   "metadata": {},
   "outputs": [],
   "source": [
    "#use sepal length/width and petal length/width as input variables\n",
    "iris_inputs = np.array(iris_df)\n",
    "#add constant to array of inputs\n",
    "iris_inputs = sm.add_constant(iris_inputs)"
   ]
  },
  {
   "cell_type": "code",
   "execution_count": 169,
   "metadata": {},
   "outputs": [],
   "source": [
    "#add binary class to the iris dataframe\n",
    "iris_df['bin_class']= iris_bin_outcome"
   ]
  },
  {
   "cell_type": "code",
   "execution_count": 170,
   "metadata": {},
   "outputs": [
    {
     "data": {
      "image/png": "[encoded data removed]",
      "text/plain": [
       "<Figure size 720x720 with 4 Axes>"
      ]
     },
     "metadata": {
      "needs_background": "light"
     },
     "output_type": "display_data"
    }
   ],
   "source": [
    "import seaborn as sns\n",
    "#plots of sepal and petal lengths and widths by class\n",
    "#create subplots\n",
    "fig, ax = plt.subplots(2, 2, figsize=(10, 10))\n",
    "#boxplots for each input variable and binary class\n",
    "sns.boxplot(x='bin_class', y='s_length', data=iris_df, ax=ax[0,0])\n",
    "sns.boxplot(x='bin_class' , y='s_width', data=iris_df, ax=ax[0,1])\n",
    "sns.boxplot(x='bin_class', y='p_length',data=iris_df, ax=ax[1,0])\n",
    "sns.boxplot(x='bin_class', y='p_width', data=iris_df, ax=ax[1,1])\n",
    "for i in range(2):\n",
    "    for j in range(2):\n",
    "        ax[i, j].set_xticklabels(['Setosa/Veriscolor', 'Virginica'])\n",
    "        ax[i, j].set_ylim(0,8)\n",
    "        ax[i, j].set_xlabel(None)\n",
    "ax[0,0].set_ylabel('Sepal Length (cm)')\n",
    "ax[0,1].set_ylabel('Sepal Width (cm)')\n",
    "ax[1,0].set_ylabel('Petal Length (cm)')\n",
    "ax[1,1].set_ylabel('Petal Width (cm)')\n",
    "plt.show()"
   ]
  },
  {
   "cell_type": "code",
   "execution_count": 171,
   "metadata": {},
   "outputs": [
    {
     "name": "stdout",
     "output_type": "stream",
     "text": [
      "Optimization terminated successfully.\n",
      "         Current function value: 0.039662\n",
      "         Iterations 14\n"
     ]
    }
   ],
   "source": [
    "#logistic regression of binary class on sepal and petal lengths/widths\n",
    "logistic = sm.Logit(iris_bin_outcome, iris_inputs).fit()"
   ]
  },
  {
   "cell_type": "markdown",
   "metadata": {},
   "source": [
    "## Try it yourself"
   ]
  },
  {
   "cell_type": "markdown",
   "metadata": {},
   "source": [
    "View the summary of the model"
   ]
  },
  {
   "cell_type": "code",
   "execution_count": null,
   "metadata": {},
   "outputs": [],
   "source": []
  },
  {
   "cell_type": "markdown",
   "metadata": {},
   "source": [
    "Get the regression parameters"
   ]
  },
  {
   "cell_type": "code",
   "execution_count": null,
   "metadata": {},
   "outputs": [],
   "source": []
  },
  {
   "cell_type": "markdown",
   "metadata": {},
   "source": [
    "Get predictions from the logistic model using the same function as with the linear model"
   ]
  },
  {
   "cell_type": "code",
   "execution_count": null,
   "metadata": {},
   "outputs": [],
   "source": []
  },
  {
   "cell_type": "markdown",
   "metadata": {},
   "source": [
    "# Scikit-Learn"
   ]
  },
  {
   "cell_type": "markdown",
   "metadata": {},
   "source": [
    "### Linear Regression"
   ]
  },
  {
   "cell_type": "code",
   "execution_count": 172,
   "metadata": {},
   "outputs": [],
   "source": [
    "#sklearn linear model does not require you to add a constant column to the array of inputs\n",
    "#remove the constant column from X\n",
    "X_sk = X[:,1:]"
   ]
  },
  {
   "cell_type": "code",
   "execution_count": 173,
   "metadata": {},
   "outputs": [],
   "source": [
    "#fit a linear model of petal length on sepal length and petal width using sklearn\n",
    "sk_linear = linear_model.LinearRegression().fit(X_sk, Y)"
   ]
  },
  {
   "cell_type": "code",
   "execution_count": 174,
   "metadata": {},
   "outputs": [
    {
     "data": {
      "text/plain": [
       "array([0.54225562, 1.74810286])"
      ]
     },
     "execution_count": 174,
     "metadata": {},
     "output_type": "execute_result"
    }
   ],
   "source": [
    "#get coefficients of linear model\n",
    "sk_linear.coef_"
   ]
  },
  {
   "cell_type": "code",
   "execution_count": 175,
   "metadata": {},
   "outputs": [
    {
     "data": {
      "text/plain": [
       "-1.5071383768459286"
      ]
     },
     "execution_count": 175,
     "metadata": {},
     "output_type": "execute_result"
    }
   ],
   "source": [
    "#get the intercept of the linear model\n",
    "sk_linear.intercept_\n",
    "#notice that the coefficients and intercept are the same as with StatsModels\n",
    "#Both sklearn and StatsModels linear regression models minimize the sum of square residuals by default"
   ]
  },
  {
   "cell_type": "code",
   "execution_count": 176,
   "metadata": {},
   "outputs": [
    {
     "data": {
      "text/plain": [
       "array([1.60798587, 1.49953474, 1.39108362, 1.33685806, 1.5537603 ,\n",
       "       2.12028312, 1.51166834, 1.5537603 , 1.22840693, 1.32472446,\n",
       "       1.77066255, 1.44530918, 1.27049889, 0.99937108, 1.9875648 ,\n",
       "       2.28295981, 2.12028312, 1.78279615, 2.10814952, 1.78279615,\n",
       "       1.77066255, 1.95760644, 1.33685806, 2.13241672, 1.44530918,\n",
       "       1.5537603 , 1.90338088, 1.66221143, 1.66221143, 1.39108362,\n",
       "       1.44530918, 2.12028312, 1.48740114, 1.82488811, 1.49953474,\n",
       "       1.5537603 , 1.82488811, 1.32472446, 1.22840693, 1.60798587,\n",
       "       1.72857059, 1.45744278, 1.22840693, 2.25300145, 1.95760644,\n",
       "       1.62011947, 1.60798587, 1.33685806, 1.71643699, 1.5537603 ,\n",
       "       4.73599498, 4.58545189, 4.8565797 , 3.74780126, 4.63967745,\n",
       "       3.85625238, 4.70603661, 2.89801703, 4.34428244, 3.75993486,\n",
       "       2.95224259, 4.31432408, 3.49449821, 4.24796492, 3.80202682,\n",
       "       4.57331829, 4.15164739, 3.38604709, 4.47700076, 3.45240625,\n",
       "       4.83875493, 4.07315463, 4.53122633, 3.89834434, 4.23583132,\n",
       "       4.51909273, 4.62754385, 5.09774915, 4.36854964, 3.33182152,\n",
       "       3.39818069, 3.2233704 , 3.73566766, 4.54335993, 4.04319627,\n",
       "       4.54335993, 4.74812858, 4.18160575, 3.80202682, 3.74780126,\n",
       "       3.57299097, 4.24796492, 3.73566766, 2.95224259, 3.80202682,\n",
       "       3.6814421 , 3.85625238, 4.12738019, 3.18127844, 3.85625238,\n",
       "       6.27932918, 4.95933966, 6.01389254, 5.05565718, 5.86334945,\n",
       "       6.28502035, 4.12168903, 5.59791281, 5.27255943, 6.76735924,\n",
       "       5.51372888, 5.28469303, 5.85121585, 5.07992438, 5.83339109,\n",
       "       5.98393417, 5.16410831, 6.5140562 , 6.68886648, 4.36854964,\n",
       "       6.25506199, 5.02569882, 6.16443563, 5.05565718, 5.79699029,\n",
       "       5.54368724, 5.00143162, 4.94720606, 5.6343136 , 5.19406667,\n",
       "       5.82694865, 6.27288675, 5.80912389, 4.53122633, 4.24796492,\n",
       "       6.68886648, 6.1045189 , 5.10988275, 4.8929805 , 5.90544141,\n",
       "       6.32142115, 6.25506199, 4.95933966, 6.20083642, 6.49623143,\n",
       "       6.14661086, 5.23046747, 5.51372888, 5.87548305, 4.83875493])"
      ]
     },
     "execution_count": 176,
     "metadata": {},
     "output_type": "execute_result"
    }
   ],
   "source": [
    "#get predictions of petal length from input values\n",
    "Y_pred_sk = sk_linear.predict(X_sk)\n",
    "Y_pred_sk"
   ]
  },
  {
   "cell_type": "code",
   "execution_count": 177,
   "metadata": {},
   "outputs": [
    {
     "data": {
      "text/plain": [
       "0.9485236349446816"
      ]
     },
     "execution_count": 177,
     "metadata": {},
     "output_type": "execute_result"
    }
   ],
   "source": [
    "#Get the r-squared value for the linear regression model\n",
    "sk_linear.score(X_sk, Y)"
   ]
  },
  {
   "cell_type": "code",
   "execution_count": 178,
   "metadata": {},
   "outputs": [
    {
     "data": {
      "text/plain": [
       "0.15934522529904482"
      ]
     },
     "execution_count": 178,
     "metadata": {},
     "output_type": "execute_result"
    }
   ],
   "source": [
    "#get the mean squared error from the sklearn linear regression\n",
    "metrics.mean_squared_error(Y, Y_pred_sk)"
   ]
  },
  {
   "cell_type": "markdown",
   "metadata": {},
   "source": [
    "### Logistic Regression"
   ]
  },
  {
   "cell_type": "code",
   "execution_count": 179,
   "metadata": {},
   "outputs": [
    {
     "data": {
      "text/html": [
       "<div>\n",
       "<style scoped>\n",
       "    .dataframe tbody tr th:only-of-type {\n",
       "        vertical-align: middle;\n",
       "    }\n",
       "\n",
       "    .dataframe tbody tr th {\n",
       "        vertical-align: top;\n",
       "    }\n",
       "\n",
       "    .dataframe thead th {\n",
       "        text-align: right;\n",
       "    }\n",
       "</style>\n",
       "<table border=\"1\" class=\"dataframe\">\n",
       "  <thead>\n",
       "    <tr style=\"text-align: right;\">\n",
       "      <th></th>\n",
       "      <th>s_length</th>\n",
       "      <th>s_width</th>\n",
       "      <th>p_length</th>\n",
       "      <th>p_width</th>\n",
       "      <th>bin_class</th>\n",
       "    </tr>\n",
       "  </thead>\n",
       "  <tbody>\n",
       "    <tr>\n",
       "      <th>0</th>\n",
       "      <td>5.1</td>\n",
       "      <td>3.5</td>\n",
       "      <td>1.4</td>\n",
       "      <td>0.2</td>\n",
       "      <td>0</td>\n",
       "    </tr>\n",
       "    <tr>\n",
       "      <th>1</th>\n",
       "      <td>4.9</td>\n",
       "      <td>3.0</td>\n",
       "      <td>1.4</td>\n",
       "      <td>0.2</td>\n",
       "      <td>0</td>\n",
       "    </tr>\n",
       "    <tr>\n",
       "      <th>2</th>\n",
       "      <td>4.7</td>\n",
       "      <td>3.2</td>\n",
       "      <td>1.3</td>\n",
       "      <td>0.2</td>\n",
       "      <td>0</td>\n",
       "    </tr>\n",
       "    <tr>\n",
       "      <th>3</th>\n",
       "      <td>4.6</td>\n",
       "      <td>3.1</td>\n",
       "      <td>1.5</td>\n",
       "      <td>0.2</td>\n",
       "      <td>0</td>\n",
       "    </tr>\n",
       "    <tr>\n",
       "      <th>4</th>\n",
       "      <td>5.0</td>\n",
       "      <td>3.6</td>\n",
       "      <td>1.4</td>\n",
       "      <td>0.2</td>\n",
       "      <td>0</td>\n",
       "    </tr>\n",
       "  </tbody>\n",
       "</table>\n",
       "</div>"
      ],
      "text/plain": [
       "   s_length  s_width  p_length  p_width  bin_class\n",
       "0       5.1      3.5       1.4      0.2          0\n",
       "1       4.9      3.0       1.4      0.2          0\n",
       "2       4.7      3.2       1.3      0.2          0\n",
       "3       4.6      3.1       1.5      0.2          0\n",
       "4       5.0      3.6       1.4      0.2          0"
      ]
     },
     "execution_count": 179,
     "metadata": {},
     "output_type": "execute_result"
    }
   ],
   "source": [
    "#view the top of the iris dataframe again\n",
    "iris_df.head()"
   ]
  },
  {
   "cell_type": "code",
   "execution_count": 180,
   "metadata": {},
   "outputs": [],
   "source": [
    "#get input variables from iris dataframe (the first 4 columns of the dataframe)\n",
    "iris_inputs_sk = np.array(iris_df)[:, :4]\n",
    "#outcomes are iris_bin_outcome\n",
    "#create test and training sets\n",
    "X_train, X_test, y_train, y_test = model_selection.train_test_split(iris_inputs_sk, iris_bin_outcome, test_size=0.3, random_state=1)"
   ]
  },
  {
   "cell_type": "code",
   "execution_count": 181,
   "metadata": {},
   "outputs": [],
   "source": [
    "#fit a logistic model to classify irises as 0 for Setosa/Versicolor, 1 for Virginica \n",
    "sk_logistic = linear_model.LogisticRegression(solver='liblinear').fit(X_train, y_train)\n",
    "#default penalty is the l2 norm"
   ]
  },
  {
   "cell_type": "code",
   "execution_count": 182,
   "metadata": {},
   "outputs": [
    {
     "data": {
      "text/plain": [
       "array([1, 0, 0, 0, 0, 0, 0, 1, 1, 1, 1, 1, 0, 1, 0, 0, 1, 1, 0, 0, 1, 0,\n",
       "       1, 1, 0, 0, 1, 1, 0, 0, 0, 1, 0, 1, 0, 0, 0, 0, 1, 0, 1, 1, 1, 0,\n",
       "       0, 0, 0, 1, 0, 1, 1, 0, 1, 1, 0, 0, 0, 0, 0, 0, 0, 0, 0, 0, 1, 1,\n",
       "       1, 0, 0, 1, 0, 1, 0, 1, 1, 0, 1, 0, 0, 0, 0, 0, 0, 0, 0, 0, 0, 0,\n",
       "       0, 0, 0, 0, 0, 1, 0, 0, 1, 0, 1, 0, 1, 1, 1, 1, 0])"
      ]
     },
     "execution_count": 182,
     "metadata": {},
     "output_type": "execute_result"
    }
   ],
   "source": [
    "#make class predictions using the logistic regression model on training data\n",
    "#predicts class with highest probability (threshold of 0.5)\n",
    "sk_logistic.predict(X_train)"
   ]
  },
  {
   "cell_type": "code",
   "execution_count": 183,
   "metadata": {},
   "outputs": [
    {
     "data": {
      "text/plain": [
       "array([[2.25152871e-02, 9.77484713e-01],\n",
       "       [9.99935072e-01, 6.49275692e-05],\n",
       "       [9.99894041e-01, 1.05958531e-04],\n",
       "       [9.99676578e-01, 3.23421978e-04],\n",
       "       [6.52362899e-01, 3.47637101e-01],\n",
       "       [9.99864648e-01, 1.35352080e-04],\n",
       "       [9.99959295e-01, 4.07051108e-05],\n",
       "       [1.22031104e-01, 8.77968896e-01],\n",
       "       [2.86871181e-01, 7.13128819e-01],\n",
       "       [1.43115083e-01, 8.56884917e-01]])"
      ]
     },
     "execution_count": 183,
     "metadata": {},
     "output_type": "execute_result"
    }
   ],
   "source": [
    "#get the first 10 predicted probabilities from the logistic regression model on training data\n",
    "#first column is probability of class 0, second is class 1\n",
    "sk_logistic.predict_proba(X_train)[:10,]"
   ]
  },
  {
   "cell_type": "markdown",
   "metadata": {},
   "source": [
    "## Try it yourself"
   ]
  },
  {
   "cell_type": "markdown",
   "metadata": {},
   "source": [
    "Get the coefficients and intercept for the logistic model"
   ]
  },
  {
   "cell_type": "code",
   "execution_count": null,
   "metadata": {},
   "outputs": [],
   "source": []
  },
  {
   "cell_type": "markdown",
   "metadata": {},
   "source": [
    "### Classification evaluation"
   ]
  },
  {
   "cell_type": "code",
   "execution_count": 184,
   "metadata": {},
   "outputs": [],
   "source": [
    "#probabilities for positive outcome (Virginica Iris) on training data\n",
    "virginica_prob = sk_logistic.predict_proba(X_train)[:,1]\n",
    "#get the false positive and true positive rates at different thresholds\n",
    "fpr, tpr, thresholds = metrics.roc_curve(y_train, virginica_prob, drop_intermediate=False)"
   ]
  },
  {
   "cell_type": "code",
   "execution_count": 185,
   "metadata": {},
   "outputs": [
    {
     "data": {
      "text/plain": [
       "array([1.97956868e+00, 9.79568682e-01, 9.77484713e-01, 9.40480220e-01,\n",
       "       9.36242795e-01, 9.35753178e-01, 9.27197517e-01, 9.25181127e-01,\n",
       "       9.23920793e-01, 9.22604694e-01, 9.16567421e-01, 9.09537052e-01,\n",
       "       9.09165780e-01, 9.00743265e-01, 8.86545854e-01, 8.85951121e-01,\n",
       "       8.81353615e-01, 8.77968896e-01, 8.63445210e-01, 8.56884917e-01,\n",
       "       8.47037370e-01, 8.46075169e-01, 8.16130434e-01, 8.15703583e-01,\n",
       "       8.00250813e-01, 7.92249884e-01, 7.88573461e-01, 7.80364535e-01,\n",
       "       7.48811657e-01, 7.35906542e-01, 7.13128819e-01, 6.49113583e-01,\n",
       "       6.48713382e-01, 6.38636033e-01, 6.36889165e-01, 6.31075791e-01,\n",
       "       6.03576507e-01, 5.85387529e-01, 5.71656954e-01, 5.34048067e-01,\n",
       "       4.28279611e-01, 3.89987762e-01, 3.63192379e-01, 3.47637101e-01,\n",
       "       2.89631079e-01, 2.83757580e-01, 2.33712284e-01, 2.31014805e-01,\n",
       "       2.28806954e-01, 2.07867623e-01, 2.05600876e-01, 1.95953594e-01,\n",
       "       1.91900185e-01, 1.81442039e-01, 1.75921860e-01, 1.56283379e-01,\n",
       "       1.39970546e-01, 1.19823818e-01, 1.16912928e-01, 1.14540520e-01,\n",
       "       1.12560599e-01, 1.09496419e-01, 1.07727150e-01, 1.04458773e-01,\n",
       "       9.86240810e-02, 8.72332180e-02, 8.66779933e-02, 8.22722917e-02,\n",
       "       4.40032409e-02, 8.36227028e-04, 5.62564792e-04, 5.37195404e-04,\n",
       "       4.31665115e-04, 4.16139686e-04, 4.14783969e-04, 4.10365699e-04,\n",
       "       3.70372512e-04, 3.23421978e-04, 3.07620884e-04, 3.02554136e-04,\n",
       "       3.02023291e-04, 2.92156044e-04, 2.77882053e-04, 2.53641877e-04,\n",
       "       2.51707883e-04, 2.22358750e-04, 2.13286297e-04, 2.05613546e-04,\n",
       "       2.04404360e-04, 1.59877107e-04, 1.53990110e-04, 1.41233928e-04,\n",
       "       1.35352080e-04, 1.27466287e-04, 1.14950459e-04, 1.05958531e-04,\n",
       "       1.04121486e-04, 1.01634837e-04, 9.87218347e-05, 8.56301711e-05,\n",
       "       6.49275692e-05, 6.16144449e-05, 4.75883717e-05, 4.07051108e-05,\n",
       "       2.89942669e-05])"
      ]
     },
     "execution_count": 185,
     "metadata": {},
     "output_type": "execute_result"
    }
   ],
   "source": [
    "#view thresholds\n",
    "thresholds"
   ]
  },
  {
   "cell_type": "code",
   "execution_count": 186,
   "metadata": {},
   "outputs": [
    {
     "data": {
      "image/png": "[encoded data removed]",
      "text/plain": [
       "<Figure size 432x288 with 1 Axes>"
      ]
     },
     "metadata": {
      "needs_background": "light"
     },
     "output_type": "display_data"
    }
   ],
   "source": [
    "#Plot the ROC curve\n",
    "roc = sns.lineplot(x=fpr, y=tpr, ci=False)\n",
    "roc.set(xlabel='FP Rate', ylabel='TP Rate', title='ROC Curve', xlim=(-0.01,1),ylim=(0,1.05))\n",
    "plt.show()"
   ]
  },
  {
   "cell_type": "code",
   "execution_count": 187,
   "metadata": {},
   "outputs": [
    {
     "name": "stdout",
     "output_type": "stream",
     "text": [
      "Training AUC:  0.995\n",
      "Test AUC:  1.0\n"
     ]
    }
   ],
   "source": [
    "#Get the AUC score for training data\n",
    "auc_train = metrics.roc_auc_score(y_train, virginica_prob)\n",
    "#predicted probabilities on test data\n",
    "test_prob = sk_logistic.predict_proba(X_test)[:,1]\n",
    "#Get the AUC score for test data\n",
    "auc_test = metrics.roc_auc_score(y_test, test_prob)\n",
    "#print results\n",
    "print(\"Training AUC: \", round(auc_train, 3))\n",
    "print(\"Test AUC: \", round(auc_test, 3))"
   ]
  },
  {
   "cell_type": "code",
   "execution_count": 188,
   "metadata": {},
   "outputs": [
    {
     "name": "stdout",
     "output_type": "stream",
     "text": [
      "Training log loss:  0.161\n",
      "Test log loss:  0.199\n"
     ]
    }
   ],
   "source": [
    "#calculate log loss on training data\n",
    "print(\"Training log loss: \", round(metrics.log_loss(y_train, virginica_prob), 3))\n",
    "#calculate log loss on test data\n",
    "print(\"Test log loss: \", round(metrics.log_loss(y_test, test_prob), 3))"
   ]
  },
  {
   "cell_type": "code",
   "execution_count": 189,
   "metadata": {},
   "outputs": [
    {
     "data": {
      "text/plain": [
       "array([[66,  2],\n",
       "       [ 0, 37]])"
      ]
     },
     "execution_count": 189,
     "metadata": {},
     "output_type": "execute_result"
    }
   ],
   "source": [
    "#predicted classes of training data based on threshold of 0.55\n",
    "train_pred = np.zeros(len(y_train))\n",
    "train_pred[sk_logistic.predict_proba(X_train)[:,1] >= 0.55] = 1\n",
    "#confusion matrix on training data (using threshold of 0.55)\n",
    "metrics.confusion_matrix(y_train, train_pred)\n",
    "#confusion matrix output is:\n",
    "# TN FP\n",
    "# FN TP"
   ]
  },
  {
   "cell_type": "code",
   "execution_count": 190,
   "metadata": {},
   "outputs": [
    {
     "data": {
      "text/plain": [
       "array([[31,  1],\n",
       "       [ 0, 13]])"
      ]
     },
     "execution_count": 190,
     "metadata": {},
     "output_type": "execute_result"
    }
   ],
   "source": [
    "#confusion matrix on test data\n",
    "#predicted classes of test data based on threshold of 0.55\n",
    "test_pred = np.zeros(len(y_test))\n",
    "test_pred[sk_logistic.predict_proba(X_test)[:,1] >= 0.55] = 1\n",
    "#confusion matrix on test data (using threshold of 0.55)\n",
    "metrics.confusion_matrix(y_test, test_pred)"
   ]
  },
  {
   "cell_type": "markdown",
   "metadata": {},
   "source": [
    "### K-Nearest Neighbors"
   ]
  },
  {
   "cell_type": "code",
   "execution_count": 191,
   "metadata": {},
   "outputs": [],
   "source": [
    "#knn classifier on training data\n",
    "#empty list for auc scores\n",
    "scores = []\n",
    "#try different values for the number of neighbors\n",
    "for i in range(1,10):\n",
    "    knn = neighbors.KNeighborsClassifier(n_neighbors=i).fit(X_train, y_train)\n",
    "    prob = knn.predict_proba(X_train)[:,1]\n",
    "    auc = metrics.roc_auc_score(y_train, prob)\n",
    "    scores.append(auc)"
   ]
  },
  {
   "cell_type": "code",
   "execution_count": 192,
   "metadata": {},
   "outputs": [
    {
     "data": {
      "text/plain": [
       "[1.0,\n",
       " 0.9982114467408586,\n",
       " 0.9960254372019077,\n",
       " 0.996422893481717,\n",
       " 0.9960254372019077,\n",
       " 0.9960254372019077,\n",
       " 0.9946343402225755,\n",
       " 0.9958267090620032,\n",
       " 0.9950317965023847]"
      ]
     },
     "execution_count": 192,
     "metadata": {},
     "output_type": "execute_result"
    }
   ],
   "source": [
    "#look at auc scores\n",
    "scores\n",
    "#lower values of k (number of neighbors) will likely lead to overfitting"
   ]
  },
  {
   "cell_type": "code",
   "execution_count": 193,
   "metadata": {},
   "outputs": [],
   "source": [
    "#knn classifier with k = 4\n",
    "knn = neighbors.KNeighborsClassifier(n_neighbors=4).fit(X_train, y_train)\n",
    "#predict class on training data\n",
    "knn_prob_train = knn.predict_proba(X_train)[:,1]"
   ]
  },
  {
   "cell_type": "code",
   "execution_count": 194,
   "metadata": {},
   "outputs": [
    {
     "data": {
      "text/plain": [
       "0.996422893481717"
      ]
     },
     "execution_count": 194,
     "metadata": {},
     "output_type": "execute_result"
    }
   ],
   "source": [
    "#auc score on training data for knn classifier with k=4\n",
    "metrics.roc_auc_score(y_train, knn_prob_train)"
   ]
  },
  {
   "cell_type": "code",
   "execution_count": 195,
   "metadata": {},
   "outputs": [
    {
     "data": {
      "text/plain": [
       "0.9975961538461539"
      ]
     },
     "execution_count": 195,
     "metadata": {},
     "output_type": "execute_result"
    }
   ],
   "source": [
    "#get predicted probabilities for test data\n",
    "knn_prob_test = knn.predict_proba(X_test)[:,1]\n",
    "#auc score on test data for knn classifier with k=4\n",
    "metrics.roc_auc_score(y_test, knn_prob_test)"
   ]
  },
  {
   "cell_type": "markdown",
   "metadata": {},
   "source": [
    "## Try it yourself"
   ]
  },
  {
   "cell_type": "markdown",
   "metadata": {},
   "source": [
    "Make a confusion matrix for the kNN classifier on the test data using a threshold of 0.5. How many true positives, false positives, true negatives, and false negatives are there?"
   ]
  },
  {
   "cell_type": "code",
   "execution_count": null,
   "metadata": {},
   "outputs": [],
   "source": []
  }
 ],
 "metadata": {
  "kernelspec": {
   "display_name": "Python 3",
   "language": "python",
   "name": "python3"
  },
  "language_info": {
   "codemirror_mode": {
    "name": "ipython",
    "version": 3
   },
   "file_extension": ".py",
   "mimetype": "text/x-python",
   "name": "python",
   "nbconvert_exporter": "python",
   "pygments_lexer": "ipython3",
   "version": "3.7.3"
  }
 },
 "nbformat": 4,
 "nbformat_minor": 2
}
